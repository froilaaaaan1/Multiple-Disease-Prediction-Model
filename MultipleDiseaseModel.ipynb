{
 "cells": [
  {
   "cell_type": "code",
   "execution_count": 11,
   "id": "e6a27567-65ba-4f29-b282-a9a408b72085",
   "metadata": {
    "ExecuteTime": {
     "end_time": "2024-04-03T08:10:22.663489100Z",
     "start_time": "2024-04-03T08:10:22.561979800Z"
    }
   },
   "outputs": [],
   "source": [
    "# Logistic Regression: A simple yet effective linear model for binary classification tasks like disease prediction.\n",
    "# Decision Trees: They can handle both numerical and categorical data, making them suitable for this dataset. Decision trees are interpretable and can capture nonlinear relationships between features and the target variable.\n",
    "# Random Forest: An ensemble method that builds multiple decision trees and combines their predictions. It often provides improved accuracy compared to a single decision tree and is robust to overfitting.\n",
    "# Gradient Boosting Machines (e.g., XGBoost, LightGBM): These are powerful ensemble methods that build trees sequentially, each one correcting the errors of the previous model. They are highly effective for classification tasks and often perform well in competitions and real-world applications.\n",
    "# Support Vector Machines (SVM): SVMs can effectively handle high-dimensional data and are capable of capturing complex relationships between features and the target variable.\n",
    "# Neural Networks: Deep learning models, such as feedforward neural networks or convolutional neural networks (CNNs), can learn intricate patterns from the data. They are particularly useful when dealing with large and complex datasets, but they require more computational resources and data to train effectively.\n",
    "# Naive Bayes Classifier\n",
    "# Ensemble Methods\n",
    "\n",
    "import numpy as np\n",
    "import pandas as pd\n",
    "import matplotlib.pyplot as plt\n",
    "%matplotlib inline\n",
    "from sklearn.metrics import confusion_matrix\n",
    "from sklearn.metrics import accuracy_score\n",
    "from sklearn.metrics import precision_score\n",
    "from sklearn.metrics import recall_score\n",
    "from sklearn.metrics import f1_score\n",
    "from sklearn.linear_model import LogisticRegression"
   ]
  },
  {
   "cell_type": "code",
   "execution_count": 12,
   "id": "b14fd83f-3cd6-49b8-b2c8-15bc783e2af7",
   "metadata": {
    "ExecuteTime": {
     "end_time": "2024-04-03T08:10:22.943364900Z",
     "start_time": "2024-04-03T08:10:22.670497500Z"
    }
   },
   "outputs": [
    {
     "data": {
      "text/plain": "    Glucose  Cholesterol  Hemoglobin  Platelets  White Blood Cells  \\\n0  0.739597     0.650198    0.713631   0.868491           0.687433   \n1  0.121786     0.023058    0.944893   0.905372           0.507711   \n2  0.452539     0.116135    0.544560   0.400640           0.294538   \n3  0.136609     0.015605    0.419957   0.191487           0.081168   \n4  0.176737     0.752220    0.971779   0.785286           0.443880   \n\n   Red Blood Cells  Hematocrit  Mean Corpuscular Volume  \\\n0         0.529895    0.290006                 0.631045   \n1         0.403033    0.164216                 0.307553   \n2         0.382021    0.625267                 0.295122   \n3         0.166214    0.073293                 0.668719   \n4         0.439851    0.894991                 0.442159   \n\n   Mean Corpuscular Hemoglobin  Mean Corpuscular Hemoglobin Concentration  \\\n0                     0.001328                                   0.795829   \n1                     0.207938                                   0.505562   \n2                     0.868369                                   0.026808   \n3                     0.125447                                   0.501051   \n4                     0.257288                                   0.805987   \n\n   ...     HbA1c  LDL Cholesterol  HDL Cholesterol       ALT       AST  \\\n0  ...  0.502665         0.215560         0.512941  0.064187  0.610827   \n1  ...  0.856810         0.652465         0.106961  0.942549  0.344261   \n2  ...  0.466795         0.387332         0.421763  0.007186  0.506918   \n3  ...  0.016256         0.040137         0.826721  0.265415  0.594148   \n4  ...  0.429431         0.146294         0.221574  0.015280  0.567115   \n\n   Heart Rate  Creatinine  Troponin  C-reactive Protein   Disease  \n0    0.939485    0.095512  0.465957            0.769230   Healthy  \n1    0.666368    0.659060  0.816982            0.401166  Diabetes  \n2    0.431704    0.417295  0.799074            0.779208  Thalasse  \n3    0.225756    0.490349  0.637061            0.354094    Anemia  \n4    0.841412    0.153350  0.794008            0.094970  Thalasse  \n\n[5 rows x 25 columns]",
      "text/html": "<div>\n<style scoped>\n    .dataframe tbody tr th:only-of-type {\n        vertical-align: middle;\n    }\n\n    .dataframe tbody tr th {\n        vertical-align: top;\n    }\n\n    .dataframe thead th {\n        text-align: right;\n    }\n</style>\n<table border=\"1\" class=\"dataframe\">\n  <thead>\n    <tr style=\"text-align: right;\">\n      <th></th>\n      <th>Glucose</th>\n      <th>Cholesterol</th>\n      <th>Hemoglobin</th>\n      <th>Platelets</th>\n      <th>White Blood Cells</th>\n      <th>Red Blood Cells</th>\n      <th>Hematocrit</th>\n      <th>Mean Corpuscular Volume</th>\n      <th>Mean Corpuscular Hemoglobin</th>\n      <th>Mean Corpuscular Hemoglobin Concentration</th>\n      <th>...</th>\n      <th>HbA1c</th>\n      <th>LDL Cholesterol</th>\n      <th>HDL Cholesterol</th>\n      <th>ALT</th>\n      <th>AST</th>\n      <th>Heart Rate</th>\n      <th>Creatinine</th>\n      <th>Troponin</th>\n      <th>C-reactive Protein</th>\n      <th>Disease</th>\n    </tr>\n  </thead>\n  <tbody>\n    <tr>\n      <th>0</th>\n      <td>0.739597</td>\n      <td>0.650198</td>\n      <td>0.713631</td>\n      <td>0.868491</td>\n      <td>0.687433</td>\n      <td>0.529895</td>\n      <td>0.290006</td>\n      <td>0.631045</td>\n      <td>0.001328</td>\n      <td>0.795829</td>\n      <td>...</td>\n      <td>0.502665</td>\n      <td>0.215560</td>\n      <td>0.512941</td>\n      <td>0.064187</td>\n      <td>0.610827</td>\n      <td>0.939485</td>\n      <td>0.095512</td>\n      <td>0.465957</td>\n      <td>0.769230</td>\n      <td>Healthy</td>\n    </tr>\n    <tr>\n      <th>1</th>\n      <td>0.121786</td>\n      <td>0.023058</td>\n      <td>0.944893</td>\n      <td>0.905372</td>\n      <td>0.507711</td>\n      <td>0.403033</td>\n      <td>0.164216</td>\n      <td>0.307553</td>\n      <td>0.207938</td>\n      <td>0.505562</td>\n      <td>...</td>\n      <td>0.856810</td>\n      <td>0.652465</td>\n      <td>0.106961</td>\n      <td>0.942549</td>\n      <td>0.344261</td>\n      <td>0.666368</td>\n      <td>0.659060</td>\n      <td>0.816982</td>\n      <td>0.401166</td>\n      <td>Diabetes</td>\n    </tr>\n    <tr>\n      <th>2</th>\n      <td>0.452539</td>\n      <td>0.116135</td>\n      <td>0.544560</td>\n      <td>0.400640</td>\n      <td>0.294538</td>\n      <td>0.382021</td>\n      <td>0.625267</td>\n      <td>0.295122</td>\n      <td>0.868369</td>\n      <td>0.026808</td>\n      <td>...</td>\n      <td>0.466795</td>\n      <td>0.387332</td>\n      <td>0.421763</td>\n      <td>0.007186</td>\n      <td>0.506918</td>\n      <td>0.431704</td>\n      <td>0.417295</td>\n      <td>0.799074</td>\n      <td>0.779208</td>\n      <td>Thalasse</td>\n    </tr>\n    <tr>\n      <th>3</th>\n      <td>0.136609</td>\n      <td>0.015605</td>\n      <td>0.419957</td>\n      <td>0.191487</td>\n      <td>0.081168</td>\n      <td>0.166214</td>\n      <td>0.073293</td>\n      <td>0.668719</td>\n      <td>0.125447</td>\n      <td>0.501051</td>\n      <td>...</td>\n      <td>0.016256</td>\n      <td>0.040137</td>\n      <td>0.826721</td>\n      <td>0.265415</td>\n      <td>0.594148</td>\n      <td>0.225756</td>\n      <td>0.490349</td>\n      <td>0.637061</td>\n      <td>0.354094</td>\n      <td>Anemia</td>\n    </tr>\n    <tr>\n      <th>4</th>\n      <td>0.176737</td>\n      <td>0.752220</td>\n      <td>0.971779</td>\n      <td>0.785286</td>\n      <td>0.443880</td>\n      <td>0.439851</td>\n      <td>0.894991</td>\n      <td>0.442159</td>\n      <td>0.257288</td>\n      <td>0.805987</td>\n      <td>...</td>\n      <td>0.429431</td>\n      <td>0.146294</td>\n      <td>0.221574</td>\n      <td>0.015280</td>\n      <td>0.567115</td>\n      <td>0.841412</td>\n      <td>0.153350</td>\n      <td>0.794008</td>\n      <td>0.094970</td>\n      <td>Thalasse</td>\n    </tr>\n  </tbody>\n</table>\n<p>5 rows × 25 columns</p>\n</div>"
     },
     "execution_count": 12,
     "metadata": {},
     "output_type": "execute_result"
    }
   ],
   "source": [
    "training_set = pd.read_csv('./dataset/Blood_samples_dataset_balanced_2(f).csv')\n",
    "testing_set = pd.read_csv('./dataset/blood_samples_dataset_test.csv')\n",
    "training_set.head()"
   ]
  },
  {
   "cell_type": "code",
   "outputs": [
    {
     "data": {
      "text/plain": "    Glucose  Cholesterol  Hemoglobin  Platelets  White Blood Cells  \\\n0  0.001827     0.033693    0.114755   0.997927           0.562604   \n1  0.436679     0.972653    0.084998   0.180909           0.675736   \n2  0.545697     0.324815    0.584467   0.475748           0.558596   \n3  0.172994     0.050351    0.736000   0.782022           0.069435   \n4  0.758534     0.739968    0.597868   0.772683           0.875720   \n\n   Red Blood Cells  Hematocrit  Mean Corpuscular Volume  \\\n0         0.866499    0.578042                 0.914615   \n1         0.563889    0.798382                 0.670361   \n2         0.661007    0.934056                 0.381782   \n3         0.085219    0.032907                 0.460619   \n4         0.860265    0.486189                 0.486686   \n\n   Mean Corpuscular Hemoglobin  Mean Corpuscular Hemoglobin Concentration  \\\n0                     0.026864                                   0.038641   \n1                     0.376092                                   0.184890   \n2                     0.500342                                   0.531829   \n3                     0.785448                                   0.491495   \n4                     0.621048                                   0.191756   \n\n   ...     HbA1c  LDL Cholesterol  HDL Cholesterol       ALT       AST  \\\n0  ...  0.653230         0.186104         0.430398  0.016678  0.885352   \n1  ...  0.833540         0.153001         0.458533  0.401845  0.635969   \n2  ...  0.678901         0.220479         0.817151  0.690981  0.101633   \n3  ...  0.381500         0.459396         0.420154  0.798537  0.399236   \n4  ...  0.993381         0.272338         0.663579  0.265227  0.918847   \n\n   Heart Rate  Creatinine  Troponin  C-reactive Protein   Disease  \n0    0.652733    0.788235  0.054788            0.031313  Thalasse  \n1    0.574425    0.047025  0.607985            0.594123  Diabetes  \n2    0.855740    0.551124  0.413294            0.070909  Heart Di  \n3    0.324600    0.499504  0.436662            0.242766  Diabetes  \n4    0.804910    0.571119  0.188368            0.750848  Heart Di  \n\n[5 rows x 25 columns]",
      "text/html": "<div>\n<style scoped>\n    .dataframe tbody tr th:only-of-type {\n        vertical-align: middle;\n    }\n\n    .dataframe tbody tr th {\n        vertical-align: top;\n    }\n\n    .dataframe thead th {\n        text-align: right;\n    }\n</style>\n<table border=\"1\" class=\"dataframe\">\n  <thead>\n    <tr style=\"text-align: right;\">\n      <th></th>\n      <th>Glucose</th>\n      <th>Cholesterol</th>\n      <th>Hemoglobin</th>\n      <th>Platelets</th>\n      <th>White Blood Cells</th>\n      <th>Red Blood Cells</th>\n      <th>Hematocrit</th>\n      <th>Mean Corpuscular Volume</th>\n      <th>Mean Corpuscular Hemoglobin</th>\n      <th>Mean Corpuscular Hemoglobin Concentration</th>\n      <th>...</th>\n      <th>HbA1c</th>\n      <th>LDL Cholesterol</th>\n      <th>HDL Cholesterol</th>\n      <th>ALT</th>\n      <th>AST</th>\n      <th>Heart Rate</th>\n      <th>Creatinine</th>\n      <th>Troponin</th>\n      <th>C-reactive Protein</th>\n      <th>Disease</th>\n    </tr>\n  </thead>\n  <tbody>\n    <tr>\n      <th>0</th>\n      <td>0.001827</td>\n      <td>0.033693</td>\n      <td>0.114755</td>\n      <td>0.997927</td>\n      <td>0.562604</td>\n      <td>0.866499</td>\n      <td>0.578042</td>\n      <td>0.914615</td>\n      <td>0.026864</td>\n      <td>0.038641</td>\n      <td>...</td>\n      <td>0.653230</td>\n      <td>0.186104</td>\n      <td>0.430398</td>\n      <td>0.016678</td>\n      <td>0.885352</td>\n      <td>0.652733</td>\n      <td>0.788235</td>\n      <td>0.054788</td>\n      <td>0.031313</td>\n      <td>Thalasse</td>\n    </tr>\n    <tr>\n      <th>1</th>\n      <td>0.436679</td>\n      <td>0.972653</td>\n      <td>0.084998</td>\n      <td>0.180909</td>\n      <td>0.675736</td>\n      <td>0.563889</td>\n      <td>0.798382</td>\n      <td>0.670361</td>\n      <td>0.376092</td>\n      <td>0.184890</td>\n      <td>...</td>\n      <td>0.833540</td>\n      <td>0.153001</td>\n      <td>0.458533</td>\n      <td>0.401845</td>\n      <td>0.635969</td>\n      <td>0.574425</td>\n      <td>0.047025</td>\n      <td>0.607985</td>\n      <td>0.594123</td>\n      <td>Diabetes</td>\n    </tr>\n    <tr>\n      <th>2</th>\n      <td>0.545697</td>\n      <td>0.324815</td>\n      <td>0.584467</td>\n      <td>0.475748</td>\n      <td>0.558596</td>\n      <td>0.661007</td>\n      <td>0.934056</td>\n      <td>0.381782</td>\n      <td>0.500342</td>\n      <td>0.531829</td>\n      <td>...</td>\n      <td>0.678901</td>\n      <td>0.220479</td>\n      <td>0.817151</td>\n      <td>0.690981</td>\n      <td>0.101633</td>\n      <td>0.855740</td>\n      <td>0.551124</td>\n      <td>0.413294</td>\n      <td>0.070909</td>\n      <td>Heart Di</td>\n    </tr>\n    <tr>\n      <th>3</th>\n      <td>0.172994</td>\n      <td>0.050351</td>\n      <td>0.736000</td>\n      <td>0.782022</td>\n      <td>0.069435</td>\n      <td>0.085219</td>\n      <td>0.032907</td>\n      <td>0.460619</td>\n      <td>0.785448</td>\n      <td>0.491495</td>\n      <td>...</td>\n      <td>0.381500</td>\n      <td>0.459396</td>\n      <td>0.420154</td>\n      <td>0.798537</td>\n      <td>0.399236</td>\n      <td>0.324600</td>\n      <td>0.499504</td>\n      <td>0.436662</td>\n      <td>0.242766</td>\n      <td>Diabetes</td>\n    </tr>\n    <tr>\n      <th>4</th>\n      <td>0.758534</td>\n      <td>0.739968</td>\n      <td>0.597868</td>\n      <td>0.772683</td>\n      <td>0.875720</td>\n      <td>0.860265</td>\n      <td>0.486189</td>\n      <td>0.486686</td>\n      <td>0.621048</td>\n      <td>0.191756</td>\n      <td>...</td>\n      <td>0.993381</td>\n      <td>0.272338</td>\n      <td>0.663579</td>\n      <td>0.265227</td>\n      <td>0.918847</td>\n      <td>0.804910</td>\n      <td>0.571119</td>\n      <td>0.188368</td>\n      <td>0.750848</td>\n      <td>Heart Di</td>\n    </tr>\n  </tbody>\n</table>\n<p>5 rows × 25 columns</p>\n</div>"
     },
     "execution_count": 13,
     "metadata": {},
     "output_type": "execute_result"
    }
   ],
   "source": [
    "testing_set.head()"
   ],
   "metadata": {
    "collapsed": false,
    "ExecuteTime": {
     "end_time": "2024-04-03T08:10:23.029355400Z",
     "start_time": "2024-04-03T08:10:22.760309300Z"
    }
   },
   "id": "c884ee98bc70f0d3",
   "execution_count": 13
  },
  {
   "cell_type": "code",
   "execution_count": 14,
   "id": "223ab617-86ee-4829-a031-ef2cc68f9af3",
   "metadata": {
    "ExecuteTime": {
     "end_time": "2024-04-03T08:10:23.299781400Z",
     "start_time": "2024-04-03T08:10:22.951365Z"
    }
   },
   "outputs": [
    {
     "data": {
      "text/plain": "           Glucose  Cholesterol   Hemoglobin    Platelets  White Blood Cells  \\\ncount  2351.000000  2351.000000  2351.000000  2351.000000        2351.000000   \nmean      0.362828     0.393648     0.586190     0.504027           0.511086   \nstd       0.251889     0.239449     0.271498     0.303347           0.277270   \nmin       0.010994     0.012139     0.003021     0.012594           0.010139   \n25%       0.129198     0.195818     0.346092     0.200865           0.259467   \n50%       0.351722     0.397083     0.609836     0.533962           0.527381   \n75%       0.582278     0.582178     0.791215     0.754841           0.743164   \nmax       0.968460     0.905026     0.983306     0.999393           0.990786   \n\n       Red Blood Cells   Hematocrit  Mean Corpuscular Volume  \\\ncount      2351.000000  2351.000000              2351.000000   \nmean          0.506590     0.507152                 0.492200   \nstd           0.266565     0.285537                 0.275735   \nmin           0.044565     0.011772                 0.046942   \n25%           0.263589     0.288132                 0.287532   \n50%           0.467431     0.493428                 0.453052   \n75%           0.743670     0.753657                 0.722293   \nmax           1.000000     0.977520                 0.995263   \n\n       Mean Corpuscular Hemoglobin  Mean Corpuscular Hemoglobin Concentration  \\\ncount                  2351.000000                                2351.000000   \nmean                      0.484459                                   0.562273   \nstd                       0.315618                                   0.273281   \nmin                       0.000554                                   0.006947   \n25%                       0.207938                                   0.355774   \n50%                       0.420723                                   0.603635   \n75%                       0.778160                                   0.741381   \nmax                       0.963235                                   0.975586   \n\n       ...  Triglycerides        HbA1c  LDL Cholesterol  HDL Cholesterol  \\\ncount  ...    2351.000000  2351.000000      2351.000000      2351.000000   \nmean   ...       0.374373     0.439112         0.421777         0.546079   \nstd    ...       0.256981     0.263779         0.252124         0.269511   \nmin    ...       0.005217     0.016256         0.033037         0.039505   \n25%    ...       0.184604     0.188750         0.217757         0.307132   \n50%    ...       0.317857     0.466375         0.413071         0.512941   \n75%    ...       0.572330     0.652514         0.604753         0.779378   \nmax    ...       0.973679     0.950218         0.983826         0.989411   \n\n               ALT          AST   Heart Rate   Creatinine     Troponin  \\\ncount  2351.000000  2351.000000  2351.000000  2351.000000  2351.000000   \nmean      0.434972     0.452138     0.582255     0.425075     0.454597   \nstd       0.267388     0.242075     0.250915     0.229298     0.251189   \nmin       0.007186     0.013013     0.114550     0.021239     0.007490   \n25%       0.211078     0.239659     0.339125     0.213026     0.288961   \n50%       0.373235     0.486317     0.610860     0.417295     0.426863   \n75%       0.710319     0.616181     0.800666     0.606719     0.682164   \nmax       0.942549     0.994460     0.996873     0.925924     0.972803   \n\n       C-reactive Protein  \ncount         2351.000000  \nmean             0.430308  \nstd              0.243034  \nmin              0.004867  \n25%              0.196192  \n50%              0.481601  \n75%              0.631426  \nmax              0.797906  \n\n[8 rows x 24 columns]",
      "text/html": "<div>\n<style scoped>\n    .dataframe tbody tr th:only-of-type {\n        vertical-align: middle;\n    }\n\n    .dataframe tbody tr th {\n        vertical-align: top;\n    }\n\n    .dataframe thead th {\n        text-align: right;\n    }\n</style>\n<table border=\"1\" class=\"dataframe\">\n  <thead>\n    <tr style=\"text-align: right;\">\n      <th></th>\n      <th>Glucose</th>\n      <th>Cholesterol</th>\n      <th>Hemoglobin</th>\n      <th>Platelets</th>\n      <th>White Blood Cells</th>\n      <th>Red Blood Cells</th>\n      <th>Hematocrit</th>\n      <th>Mean Corpuscular Volume</th>\n      <th>Mean Corpuscular Hemoglobin</th>\n      <th>Mean Corpuscular Hemoglobin Concentration</th>\n      <th>...</th>\n      <th>Triglycerides</th>\n      <th>HbA1c</th>\n      <th>LDL Cholesterol</th>\n      <th>HDL Cholesterol</th>\n      <th>ALT</th>\n      <th>AST</th>\n      <th>Heart Rate</th>\n      <th>Creatinine</th>\n      <th>Troponin</th>\n      <th>C-reactive Protein</th>\n    </tr>\n  </thead>\n  <tbody>\n    <tr>\n      <th>count</th>\n      <td>2351.000000</td>\n      <td>2351.000000</td>\n      <td>2351.000000</td>\n      <td>2351.000000</td>\n      <td>2351.000000</td>\n      <td>2351.000000</td>\n      <td>2351.000000</td>\n      <td>2351.000000</td>\n      <td>2351.000000</td>\n      <td>2351.000000</td>\n      <td>...</td>\n      <td>2351.000000</td>\n      <td>2351.000000</td>\n      <td>2351.000000</td>\n      <td>2351.000000</td>\n      <td>2351.000000</td>\n      <td>2351.000000</td>\n      <td>2351.000000</td>\n      <td>2351.000000</td>\n      <td>2351.000000</td>\n      <td>2351.000000</td>\n    </tr>\n    <tr>\n      <th>mean</th>\n      <td>0.362828</td>\n      <td>0.393648</td>\n      <td>0.586190</td>\n      <td>0.504027</td>\n      <td>0.511086</td>\n      <td>0.506590</td>\n      <td>0.507152</td>\n      <td>0.492200</td>\n      <td>0.484459</td>\n      <td>0.562273</td>\n      <td>...</td>\n      <td>0.374373</td>\n      <td>0.439112</td>\n      <td>0.421777</td>\n      <td>0.546079</td>\n      <td>0.434972</td>\n      <td>0.452138</td>\n      <td>0.582255</td>\n      <td>0.425075</td>\n      <td>0.454597</td>\n      <td>0.430308</td>\n    </tr>\n    <tr>\n      <th>std</th>\n      <td>0.251889</td>\n      <td>0.239449</td>\n      <td>0.271498</td>\n      <td>0.303347</td>\n      <td>0.277270</td>\n      <td>0.266565</td>\n      <td>0.285537</td>\n      <td>0.275735</td>\n      <td>0.315618</td>\n      <td>0.273281</td>\n      <td>...</td>\n      <td>0.256981</td>\n      <td>0.263779</td>\n      <td>0.252124</td>\n      <td>0.269511</td>\n      <td>0.267388</td>\n      <td>0.242075</td>\n      <td>0.250915</td>\n      <td>0.229298</td>\n      <td>0.251189</td>\n      <td>0.243034</td>\n    </tr>\n    <tr>\n      <th>min</th>\n      <td>0.010994</td>\n      <td>0.012139</td>\n      <td>0.003021</td>\n      <td>0.012594</td>\n      <td>0.010139</td>\n      <td>0.044565</td>\n      <td>0.011772</td>\n      <td>0.046942</td>\n      <td>0.000554</td>\n      <td>0.006947</td>\n      <td>...</td>\n      <td>0.005217</td>\n      <td>0.016256</td>\n      <td>0.033037</td>\n      <td>0.039505</td>\n      <td>0.007186</td>\n      <td>0.013013</td>\n      <td>0.114550</td>\n      <td>0.021239</td>\n      <td>0.007490</td>\n      <td>0.004867</td>\n    </tr>\n    <tr>\n      <th>25%</th>\n      <td>0.129198</td>\n      <td>0.195818</td>\n      <td>0.346092</td>\n      <td>0.200865</td>\n      <td>0.259467</td>\n      <td>0.263589</td>\n      <td>0.288132</td>\n      <td>0.287532</td>\n      <td>0.207938</td>\n      <td>0.355774</td>\n      <td>...</td>\n      <td>0.184604</td>\n      <td>0.188750</td>\n      <td>0.217757</td>\n      <td>0.307132</td>\n      <td>0.211078</td>\n      <td>0.239659</td>\n      <td>0.339125</td>\n      <td>0.213026</td>\n      <td>0.288961</td>\n      <td>0.196192</td>\n    </tr>\n    <tr>\n      <th>50%</th>\n      <td>0.351722</td>\n      <td>0.397083</td>\n      <td>0.609836</td>\n      <td>0.533962</td>\n      <td>0.527381</td>\n      <td>0.467431</td>\n      <td>0.493428</td>\n      <td>0.453052</td>\n      <td>0.420723</td>\n      <td>0.603635</td>\n      <td>...</td>\n      <td>0.317857</td>\n      <td>0.466375</td>\n      <td>0.413071</td>\n      <td>0.512941</td>\n      <td>0.373235</td>\n      <td>0.486317</td>\n      <td>0.610860</td>\n      <td>0.417295</td>\n      <td>0.426863</td>\n      <td>0.481601</td>\n    </tr>\n    <tr>\n      <th>75%</th>\n      <td>0.582278</td>\n      <td>0.582178</td>\n      <td>0.791215</td>\n      <td>0.754841</td>\n      <td>0.743164</td>\n      <td>0.743670</td>\n      <td>0.753657</td>\n      <td>0.722293</td>\n      <td>0.778160</td>\n      <td>0.741381</td>\n      <td>...</td>\n      <td>0.572330</td>\n      <td>0.652514</td>\n      <td>0.604753</td>\n      <td>0.779378</td>\n      <td>0.710319</td>\n      <td>0.616181</td>\n      <td>0.800666</td>\n      <td>0.606719</td>\n      <td>0.682164</td>\n      <td>0.631426</td>\n    </tr>\n    <tr>\n      <th>max</th>\n      <td>0.968460</td>\n      <td>0.905026</td>\n      <td>0.983306</td>\n      <td>0.999393</td>\n      <td>0.990786</td>\n      <td>1.000000</td>\n      <td>0.977520</td>\n      <td>0.995263</td>\n      <td>0.963235</td>\n      <td>0.975586</td>\n      <td>...</td>\n      <td>0.973679</td>\n      <td>0.950218</td>\n      <td>0.983826</td>\n      <td>0.989411</td>\n      <td>0.942549</td>\n      <td>0.994460</td>\n      <td>0.996873</td>\n      <td>0.925924</td>\n      <td>0.972803</td>\n      <td>0.797906</td>\n    </tr>\n  </tbody>\n</table>\n<p>8 rows × 24 columns</p>\n</div>"
     },
     "execution_count": 14,
     "metadata": {},
     "output_type": "execute_result"
    }
   ],
   "source": [
    "from matplotlib import pyplot as plt\n",
    "training_set.describe()"
   ]
  },
  {
   "cell_type": "code",
   "execution_count": 15,
   "id": "f1377f7f-6f59-4984-8b71-43565dbf9ef7",
   "metadata": {
    "ExecuteTime": {
     "end_time": "2024-04-03T08:10:23.503016300Z",
     "start_time": "2024-04-03T08:10:23.091599Z"
    }
   },
   "outputs": [
    {
     "data": {
      "text/plain": "          Glucose  Cholesterol  Hemoglobin   Platelets  White Blood Cells  \\\ncount  486.000000   486.000000  486.000000  486.000000         486.000000   \nmean     0.490044     0.506797    0.485502    0.528136           0.509783   \nstd      0.284196     0.282871    0.298818    0.292610           0.290887   \nmin      0.001827     0.003088    0.000719    0.000006          -0.000206   \n25%      0.236664     0.268021    0.201994    0.276155           0.264944   \n50%      0.496471     0.502397    0.477706    0.538642           0.511102   \n75%      0.727144     0.754638    0.750028    0.789486           0.767896   \nmax      0.991742     0.999606    0.997876    0.999507           0.999646   \n\n       Red Blood Cells  Hematocrit  Mean Corpuscular Volume  \\\ncount       486.000000  486.000000               486.000000   \nmean          0.504347    0.501042                 0.516185   \nstd           0.302865    0.294501                 0.279954   \nmin           0.000552    0.004556                 0.000309   \n25%           0.218573    0.246255                 0.287755   \n50%           0.518103    0.496275                 0.533319   \n75%           0.768466    0.761107                 0.746765   \nmax           0.997267    1.000857                 0.996362   \n\n       Mean Corpuscular Hemoglobin  Mean Corpuscular Hemoglobin Concentration  \\\ncount                   486.000000                                 486.000000   \nmean                      0.510145                                   0.501105   \nstd                       0.285213                                   0.290614   \nmin                      -0.000614                                   0.000719   \n25%                       0.259967                                   0.255839   \n50%                       0.498332                                   0.493929   \n75%                       0.761956                                   0.734817   \nmax                       0.999234                                   0.999666   \n\n       ...  Triglycerides       HbA1c  LDL Cholesterol  HDL Cholesterol  \\\ncount  ...     486.000000  486.000000       486.000000       486.000000   \nmean   ...       0.498538    0.489365         0.501706         0.487933   \nstd    ...       0.288848    0.290849         0.286729         0.292726   \nmin    ...       0.001885   -0.000991         0.001036        -0.000546   \n25%    ...       0.238772    0.239302         0.262516         0.229095   \n50%    ...       0.503164    0.481549         0.511373         0.481533   \n75%    ...       0.749527    0.725472         0.756136         0.741867   \nmax    ...       0.999826    0.999265         0.999567         1.000744   \n\n              ALT         AST  Heart Rate  Creatinine    Troponin  \\\ncount  486.000000  486.000000  486.000000  486.000000  486.000000   \nmean     0.500615    0.499675    0.493794    0.515541    0.510077   \nstd      0.285374    0.301451    0.292400    0.287223    0.294011   \nmin     -0.000312    0.002047    0.002145    0.008831    0.005714   \n25%      0.251076    0.239369    0.228581    0.262924    0.267101   \n50%      0.515321    0.497846    0.507581    0.526299    0.508479   \n75%      0.739248    0.775458    0.751124    0.777839    0.781128   \nmax      1.000326    1.000402    0.999857    0.999348    1.000125   \n\n       C-reactive Protein  \ncount          486.000000  \nmean             0.517365  \nstd              0.291645  \nmin             -0.000991  \n25%              0.263192  \n50%              0.546542  \n75%              0.776940  \nmax              0.999488  \n\n[8 rows x 24 columns]",
      "text/html": "<div>\n<style scoped>\n    .dataframe tbody tr th:only-of-type {\n        vertical-align: middle;\n    }\n\n    .dataframe tbody tr th {\n        vertical-align: top;\n    }\n\n    .dataframe thead th {\n        text-align: right;\n    }\n</style>\n<table border=\"1\" class=\"dataframe\">\n  <thead>\n    <tr style=\"text-align: right;\">\n      <th></th>\n      <th>Glucose</th>\n      <th>Cholesterol</th>\n      <th>Hemoglobin</th>\n      <th>Platelets</th>\n      <th>White Blood Cells</th>\n      <th>Red Blood Cells</th>\n      <th>Hematocrit</th>\n      <th>Mean Corpuscular Volume</th>\n      <th>Mean Corpuscular Hemoglobin</th>\n      <th>Mean Corpuscular Hemoglobin Concentration</th>\n      <th>...</th>\n      <th>Triglycerides</th>\n      <th>HbA1c</th>\n      <th>LDL Cholesterol</th>\n      <th>HDL Cholesterol</th>\n      <th>ALT</th>\n      <th>AST</th>\n      <th>Heart Rate</th>\n      <th>Creatinine</th>\n      <th>Troponin</th>\n      <th>C-reactive Protein</th>\n    </tr>\n  </thead>\n  <tbody>\n    <tr>\n      <th>count</th>\n      <td>486.000000</td>\n      <td>486.000000</td>\n      <td>486.000000</td>\n      <td>486.000000</td>\n      <td>486.000000</td>\n      <td>486.000000</td>\n      <td>486.000000</td>\n      <td>486.000000</td>\n      <td>486.000000</td>\n      <td>486.000000</td>\n      <td>...</td>\n      <td>486.000000</td>\n      <td>486.000000</td>\n      <td>486.000000</td>\n      <td>486.000000</td>\n      <td>486.000000</td>\n      <td>486.000000</td>\n      <td>486.000000</td>\n      <td>486.000000</td>\n      <td>486.000000</td>\n      <td>486.000000</td>\n    </tr>\n    <tr>\n      <th>mean</th>\n      <td>0.490044</td>\n      <td>0.506797</td>\n      <td>0.485502</td>\n      <td>0.528136</td>\n      <td>0.509783</td>\n      <td>0.504347</td>\n      <td>0.501042</td>\n      <td>0.516185</td>\n      <td>0.510145</td>\n      <td>0.501105</td>\n      <td>...</td>\n      <td>0.498538</td>\n      <td>0.489365</td>\n      <td>0.501706</td>\n      <td>0.487933</td>\n      <td>0.500615</td>\n      <td>0.499675</td>\n      <td>0.493794</td>\n      <td>0.515541</td>\n      <td>0.510077</td>\n      <td>0.517365</td>\n    </tr>\n    <tr>\n      <th>std</th>\n      <td>0.284196</td>\n      <td>0.282871</td>\n      <td>0.298818</td>\n      <td>0.292610</td>\n      <td>0.290887</td>\n      <td>0.302865</td>\n      <td>0.294501</td>\n      <td>0.279954</td>\n      <td>0.285213</td>\n      <td>0.290614</td>\n      <td>...</td>\n      <td>0.288848</td>\n      <td>0.290849</td>\n      <td>0.286729</td>\n      <td>0.292726</td>\n      <td>0.285374</td>\n      <td>0.301451</td>\n      <td>0.292400</td>\n      <td>0.287223</td>\n      <td>0.294011</td>\n      <td>0.291645</td>\n    </tr>\n    <tr>\n      <th>min</th>\n      <td>0.001827</td>\n      <td>0.003088</td>\n      <td>0.000719</td>\n      <td>0.000006</td>\n      <td>-0.000206</td>\n      <td>0.000552</td>\n      <td>0.004556</td>\n      <td>0.000309</td>\n      <td>-0.000614</td>\n      <td>0.000719</td>\n      <td>...</td>\n      <td>0.001885</td>\n      <td>-0.000991</td>\n      <td>0.001036</td>\n      <td>-0.000546</td>\n      <td>-0.000312</td>\n      <td>0.002047</td>\n      <td>0.002145</td>\n      <td>0.008831</td>\n      <td>0.005714</td>\n      <td>-0.000991</td>\n    </tr>\n    <tr>\n      <th>25%</th>\n      <td>0.236664</td>\n      <td>0.268021</td>\n      <td>0.201994</td>\n      <td>0.276155</td>\n      <td>0.264944</td>\n      <td>0.218573</td>\n      <td>0.246255</td>\n      <td>0.287755</td>\n      <td>0.259967</td>\n      <td>0.255839</td>\n      <td>...</td>\n      <td>0.238772</td>\n      <td>0.239302</td>\n      <td>0.262516</td>\n      <td>0.229095</td>\n      <td>0.251076</td>\n      <td>0.239369</td>\n      <td>0.228581</td>\n      <td>0.262924</td>\n      <td>0.267101</td>\n      <td>0.263192</td>\n    </tr>\n    <tr>\n      <th>50%</th>\n      <td>0.496471</td>\n      <td>0.502397</td>\n      <td>0.477706</td>\n      <td>0.538642</td>\n      <td>0.511102</td>\n      <td>0.518103</td>\n      <td>0.496275</td>\n      <td>0.533319</td>\n      <td>0.498332</td>\n      <td>0.493929</td>\n      <td>...</td>\n      <td>0.503164</td>\n      <td>0.481549</td>\n      <td>0.511373</td>\n      <td>0.481533</td>\n      <td>0.515321</td>\n      <td>0.497846</td>\n      <td>0.507581</td>\n      <td>0.526299</td>\n      <td>0.508479</td>\n      <td>0.546542</td>\n    </tr>\n    <tr>\n      <th>75%</th>\n      <td>0.727144</td>\n      <td>0.754638</td>\n      <td>0.750028</td>\n      <td>0.789486</td>\n      <td>0.767896</td>\n      <td>0.768466</td>\n      <td>0.761107</td>\n      <td>0.746765</td>\n      <td>0.761956</td>\n      <td>0.734817</td>\n      <td>...</td>\n      <td>0.749527</td>\n      <td>0.725472</td>\n      <td>0.756136</td>\n      <td>0.741867</td>\n      <td>0.739248</td>\n      <td>0.775458</td>\n      <td>0.751124</td>\n      <td>0.777839</td>\n      <td>0.781128</td>\n      <td>0.776940</td>\n    </tr>\n    <tr>\n      <th>max</th>\n      <td>0.991742</td>\n      <td>0.999606</td>\n      <td>0.997876</td>\n      <td>0.999507</td>\n      <td>0.999646</td>\n      <td>0.997267</td>\n      <td>1.000857</td>\n      <td>0.996362</td>\n      <td>0.999234</td>\n      <td>0.999666</td>\n      <td>...</td>\n      <td>0.999826</td>\n      <td>0.999265</td>\n      <td>0.999567</td>\n      <td>1.000744</td>\n      <td>1.000326</td>\n      <td>1.000402</td>\n      <td>0.999857</td>\n      <td>0.999348</td>\n      <td>1.000125</td>\n      <td>0.999488</td>\n    </tr>\n  </tbody>\n</table>\n<p>8 rows × 24 columns</p>\n</div>"
     },
     "execution_count": 15,
     "metadata": {},
     "output_type": "execute_result"
    }
   ],
   "source": [
    "testing_set.describe()"
   ]
  },
  {
   "cell_type": "code",
   "outputs": [],
   "source": [
    "X_train = training_set.drop('Disease', axis=1)\n",
    "y_train = training_set['Disease']\n",
    "\n",
    "X_test = testing_set.drop('Disease', axis=1)\n",
    "y_test = testing_set['Disease']"
   ],
   "metadata": {
    "collapsed": false,
    "ExecuteTime": {
     "end_time": "2024-04-03T08:10:23.516015400Z",
     "start_time": "2024-04-03T08:10:23.214206300Z"
    }
   },
   "id": "15a4fa0ad979f239",
   "execution_count": 16
  },
  {
   "cell_type": "code",
   "outputs": [],
   "source": [
    "from sklearn.linear_model import LogisticRegression\n",
    "from sklearn import tree\n",
    "from sklearn.ensemble import RandomForestClassifier\n",
    "from sklearn.ensemble import GradientBoostingClassifier\n",
    "from sklearn.naive_bayes import GaussianNB\n",
    "from sklearn.pipeline import make_pipeline\n",
    "from sklearn.preprocessing import StandardScaler\n",
    "from sklearn.neighbors import KNeighborsClassifier\n",
    "from sklearn.svm import SVC\n",
    "\n",
    "# Logistic Regression\n",
    "logisticRegression = LogisticRegression(max_iter=1000 )\n",
    "\n",
    "# Decision Tree\n",
    "decisionTree = tree.DecisionTreeClassifier()\n",
    "\n",
    "# Random Forest\n",
    "randomForest = RandomForestClassifier()\n",
    "\n",
    "# Gradient Boosting\n",
    "gradientBoosting = GradientBoostingClassifier()\n",
    "\n",
    "# Naive Bayes\n",
    "naiveBayes = GaussianNB()\n",
    "\n",
    "# KNN\n",
    "knn = KNeighborsClassifier(n_neighbors=3)\n",
    "\n",
    "# SVM\n",
    "svm = make_pipeline(StandardScaler(), SVC(gamma='auto'))"
   ],
   "metadata": {
    "collapsed": false,
    "ExecuteTime": {
     "end_time": "2024-04-03T08:10:23.818013600Z",
     "start_time": "2024-04-03T08:10:23.366792400Z"
    }
   },
   "id": "b23bf0d154c3030",
   "execution_count": 17
  },
  {
   "cell_type": "code",
   "outputs": [
    {
     "name": "stdout",
     "output_type": "stream",
     "text": [
      "Logistic Regression Accuracy:  34.36213991769547 %\n",
      "Logistic Regression Precision:  56.322504600174675 %\n",
      "Logistic Regression Recall:  34.36213991769547 %\n",
      "Logistic Regression F1 Score:  38.631067798823395 %\n",
      "\n",
      "\n",
      "Decision Tree Accuracy:  41.1522633744856 %\n",
      "Decision Tree Precision:  60.41431506040675 %\n",
      "Decision Tree Recall:  41.1522633744856 %\n",
      "Decision Tree F1 Score:  42.96835782825475 %\n",
      "\n",
      "Random Forest Accuracy:  46.913580246913575 %\n",
      "Random Forest Precision:  61.68474142062485 %\n",
      "Random Forest Recall:  46.913580246913575 %\n",
      "Random Forest F1 Score:  47.98721930662494 %\n",
      "\n",
      "Gradient Boosting Accuracy:  45.06172839506173 %\n",
      "Gradient Boosting Precision:  58.94951941288075 %\n",
      "Gradient Boosting Recall:  45.06172839506173 %\n",
      "Gradient Boosting F1 Score:  46.59251265845462 %\n",
      "\n",
      "\n",
      "Naive Bayes Accuracy:  53.70370370370371 %\n",
      "Naive Bayes Precision:  63.52330374712912 %\n",
      "Naive Bayes Recall:  53.70370370370371 %\n",
      "Naive Bayes F1 Score:  52.33447447966617 %\n",
      "\n",
      "\n",
      "KNN Accuracy:  18.51851851851852 %\n",
      "KNN Precision:  55.7870234990904 %\n",
      "KNN Recall:  18.51851851851852 %\n",
      "KNN F1 Score:  22.38155287538927 %\n",
      "\n",
      "SVM Accuracy:  49.17695473251029 %\n",
      "SVM Precision:  61.50046753148124 %\n",
      "SVM Recall:  49.17695473251029 %\n",
      "SVM F1 Score:  49.38742340097536 %\n"
     ]
    }
   ],
   "source": [
    "# Logistic Regression\n",
    "logisticRegression.fit(X_train, y_train)\n",
    "logisticRegression_predictions = logisticRegression.predict(X_test)\n",
    "logisticRegression_accuracy = accuracy_score(y_test, logisticRegression_predictions)\n",
    "logisticRegression_precision = precision_score(y_test, logisticRegression_predictions, average='weighted', zero_division=1)\n",
    "logisticRegression_recall = recall_score(y_test, logisticRegression_predictions, average='weighted')\n",
    "logisticRegression_f1 = f1_score(y_test, logisticRegression_predictions, average='weighted')\n",
    "print('Logistic Regression Accuracy: ', logisticRegression_accuracy * 100, '%')\n",
    "print('Logistic Regression Precision: ', logisticRegression_precision * 100, '%')\n",
    "print('Logistic Regression Recall: ', logisticRegression_recall * 100, '%')\n",
    "print('Logistic Regression F1 Score: ', logisticRegression_f1 * 100, '%')\n",
    "\n",
    "print(\"\\n\")\n",
    "# Decision Tree\n",
    "decisionTree.fit(X_train, y_train)\n",
    "decisionTree_predictions = decisionTree.predict(X_test)\n",
    "decisionTree_accuracy = accuracy_score(y_test, decisionTree_predictions)\n",
    "decisionTree_precision = precision_score(y_test, decisionTree_predictions, average='weighted', zero_division=1)\n",
    "decisionTree_recall = recall_score(y_test, decisionTree_predictions, average='weighted')\n",
    "decisionTree_f1 = f1_score(y_test, decisionTree_predictions, average='weighted')\n",
    "print('Decision Tree Accuracy: ', decisionTree_accuracy * 100, '%')\n",
    "print('Decision Tree Precision: ', decisionTree_precision * 100, '%')\n",
    "print('Decision Tree Recall: ', decisionTree_recall * 100, '%')\n",
    "print('Decision Tree F1 Score: ', decisionTree_f1 * 100, '%')\n",
    "\n",
    "print(\"\\n\")\n",
    "# Random Forest\n",
    "randomForest.fit(X_train, y_train)\n",
    "randomForest_predictions = randomForest.predict(X_test)\n",
    "randomForest_accuracy = accuracy_score(y_test, randomForest_predictions)\n",
    "randomForest_precision = precision_score(y_test, randomForest_predictions, average='weighted', zero_division=1)\n",
    "randomForest_recall = recall_score(y_test, randomForest_predictions, average='weighted')\n",
    "randomForest_f1 = f1_score(y_test, randomForest_predictions, average='weighted')\n",
    "print('Random Forest Accuracy: ', randomForest_accuracy * 100, '%')\n",
    "print('Random Forest Precision: ', randomForest_precision * 100, '%')\n",
    "print('Random Forest Recall: ', randomForest_recall * 100, '%')\n",
    "print('Random Forest F1 Score: ', randomForest_f1 * 100, '%')\n",
    "\n",
    "print(\"\\n\")\n",
    "# Gradient Boosting\n",
    "gradientBoosting.fit(X_train, y_train)\n",
    "gradientBoosting_predictions = gradientBoosting.predict(X_test)\n",
    "gradientBoosting_accuracy = accuracy_score(y_test, gradientBoosting_predictions)\n",
    "gradientBoosting_precision = precision_score(y_test, gradientBoosting_predictions, average='weighted', zero_division=1)\n",
    "gradientBoosting_recall = recall_score(y_test, gradientBoosting_predictions, average='weighted')\n",
    "gradientBoosting_f1 = f1_score(y_test, gradientBoosting_predictions, average='weighted')\n",
    "print('Gradient Boosting Accuracy: ', gradientBoosting_accuracy * 100, '%')\n",
    "print('Gradient Boosting Precision: ', gradientBoosting_precision * 100, '%')\n",
    "print('Gradient Boosting Recall: ', gradientBoosting_recall * 100, '%')\n",
    "print('Gradient Boosting F1 Score: ', gradientBoosting_f1 * 100, '%')\n",
    "\n",
    "print(\"\\n\")\n",
    "# Naive Bayes\n",
    "naiveBayes.fit(X_train, y_train)\n",
    "naiveBayes_predictions = naiveBayes.predict(X_test)\n",
    "naiveBayes_accuracy = accuracy_score(y_test, naiveBayes_predictions)\n",
    "naiveBayes_precision = precision_score(y_test, naiveBayes_predictions, average='weighted', zero_division=1)\n",
    "naiveBayes_recall = recall_score(y_test, naiveBayes_predictions, average='weighted')\n",
    "naiveBayes_f1 = f1_score(y_test, naiveBayes_predictions, average='weighted')\n",
    "print('Naive Bayes Accuracy: ', naiveBayes_accuracy * 100, '%')\n",
    "print('Naive Bayes Precision: ', naiveBayes_precision * 100, '%')\n",
    "print('Naive Bayes Recall: ', naiveBayes_recall * 100, '%')\n",
    "print('Naive Bayes F1 Score: ', naiveBayes_f1 * 100, '%')\n",
    "\n",
    "print(\"\\n\")\n",
    "# KNN\n",
    "knn.fit(X_train, y_train)\n",
    "knn_predictions = knn.predict(X_test)\n",
    "knn_accuracy = accuracy_score(y_test, knn_predictions)\n",
    "knn_precision = precision_score(y_test, knn_predictions, average='weighted', zero_division=1)\n",
    "knn_recall = recall_score(y_test, knn_predictions, average='weighted')\n",
    "knn_f1 = f1_score(y_test, knn_predictions, average='weighted')\n",
    "print('KNN Accuracy: ', knn_accuracy * 100, '%')\n",
    "print('KNN Precision: ', knn_precision * 100, '%')\n",
    "print('KNN Recall: ', knn_recall * 100, '%')\n",
    "print('KNN F1 Score: ', knn_f1 * 100, '%')\n",
    "\n",
    "print(\"\\n\")\n",
    "# SVM\n",
    "svm.fit(X_train, y_train)\n",
    "svm_predictions = svm.predict(X_test)\n",
    "svm_accuracy = accuracy_score(y_test, svm_predictions)\n",
    "svm_precision = precision_score(y_test, svm_predictions, average='weighted', zero_division=1)\n",
    "svm_recall = recall_score(y_test, svm_predictions, average='weighted')\n",
    "svm_f1 = f1_score(y_test, svm_predictions, average='weighted')\n",
    "print('SVM Accuracy: ', svm_accuracy * 100, '%')\n",
    "print('SVM Precision: ', svm_precision * 100, '%')\n",
    "print('SVM Recall: ', svm_recall * 100, '%')\n",
    "print('SVM F1 Score: ', svm_f1 * 100, '%')\n"
   ],
   "metadata": {
    "collapsed": false,
    "ExecuteTime": {
     "end_time": "2024-04-03T08:10:28.477469500Z",
     "start_time": "2024-04-03T08:10:23.690014900Z"
    }
   },
   "id": "27e0b5ba82e29c49",
   "execution_count": 18
  },
  {
   "cell_type": "code",
   "outputs": [],
   "source": [],
   "metadata": {
    "collapsed": false,
    "ExecuteTime": {
     "end_time": "2024-04-03T08:10:28.479475Z",
     "start_time": "2024-04-03T08:10:28.473766Z"
    }
   },
   "id": "b7ef106106e1af83",
   "execution_count": 18
  }
 ],
 "metadata": {
  "kernelspec": {
   "display_name": "Python 3 (ipykernel)",
   "language": "python",
   "name": "python3"
  },
  "language_info": {
   "codemirror_mode": {
    "name": "ipython",
    "version": 3
   },
   "file_extension": ".py",
   "mimetype": "text/x-python",
   "name": "python",
   "nbconvert_exporter": "python",
   "pygments_lexer": "ipython3",
   "version": "3.11.7"
  }
 },
 "nbformat": 4,
 "nbformat_minor": 5
}
